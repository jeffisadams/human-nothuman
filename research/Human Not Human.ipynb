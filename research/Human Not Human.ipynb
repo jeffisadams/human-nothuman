{
 "cells": [
  {
   "cell_type": "code",
   "execution_count": 1,
   "metadata": {},
   "outputs": [
    {
     "name": "stderr",
     "output_type": "stream",
     "text": [
      "Using TensorFlow backend.\n"
     ]
    }
   ],
   "source": [
    "from keras.models import Sequential\n",
    "from keras.layers import Conv2D, MaxPooling2D\n",
    "from keras.layers import Activation, Dropout, Flatten, Dense, LeakyReLU\n",
    "\n",
    "from keras.preprocessing.image import img_to_array, load_img\n",
    "from matplotlib import pyplot as plt\n",
    "\n",
    "import pandas as pd\n",
    "import numpy as np\n",
    "\n",
    "from sklearn.model_selection import train_test_split\n",
    "import boto3\n"
   ]
  },
  {
   "cell_type": "code",
   "execution_count": 2,
   "metadata": {},
   "outputs": [],
   "source": [
    "bucket = '<Your Bucket here>'\n",
    "client = boto3.client('s3')"
   ]
  },
  {
   "cell_type": "code",
   "execution_count": 3,
   "metadata": {},
   "outputs": [],
   "source": [
    "channels = 3\n",
    "nb_classes = 1\n",
    "target_height=180\n",
    "target_width=320"
   ]
  },
  {
   "cell_type": "code",
   "execution_count": 4,
   "metadata": {},
   "outputs": [
    {
     "data": {
      "text/html": [
       "<div>\n",
       "<style scoped>\n",
       "    .dataframe tbody tr th:only-of-type {\n",
       "        vertical-align: middle;\n",
       "    }\n",
       "\n",
       "    .dataframe tbody tr th {\n",
       "        vertical-align: top;\n",
       "    }\n",
       "\n",
       "    .dataframe thead th {\n",
       "        text-align: right;\n",
       "    }\n",
       "</style>\n",
       "<table border=\"1\" class=\"dataframe\">\n",
       "  <thead>\n",
       "    <tr style=\"text-align: right;\">\n",
       "      <th></th>\n",
       "      <th>filename</th>\n",
       "      <th>human</th>\n",
       "    </tr>\n",
       "  </thead>\n",
       "  <tbody>\n",
       "    <tr>\n",
       "      <th>0</th>\n",
       "      <td>01-20190707053407-06.jpg</td>\n",
       "      <td>0</td>\n",
       "    </tr>\n",
       "    <tr>\n",
       "      <th>1</th>\n",
       "      <td>01-20190707104301-05.jpg</td>\n",
       "      <td>1</td>\n",
       "    </tr>\n",
       "    <tr>\n",
       "      <th>2</th>\n",
       "      <td>01-20190707142157-05.jpg</td>\n",
       "      <td>1</td>\n",
       "    </tr>\n",
       "    <tr>\n",
       "      <th>3</th>\n",
       "      <td>01-20190707160533-02.jpg</td>\n",
       "      <td>1</td>\n",
       "    </tr>\n",
       "    <tr>\n",
       "      <th>4</th>\n",
       "      <td>01-20190713144837-02.jpg</td>\n",
       "      <td>1</td>\n",
       "    </tr>\n",
       "  </tbody>\n",
       "</table>\n",
       "</div>"
      ],
      "text/plain": [
       "                   filename  human\n",
       "0  01-20190707053407-06.jpg      0\n",
       "1  01-20190707104301-05.jpg      1\n",
       "2  01-20190707142157-05.jpg      1\n",
       "3  01-20190707160533-02.jpg      1\n",
       "4  01-20190713144837-02.jpg      1"
      ]
     },
     "execution_count": 4,
     "metadata": {},
     "output_type": "execute_result"
    }
   ],
   "source": [
    "obj = client.get_object(Bucket=bucket, Key='<path to data csv>')\n",
    "\n",
    "\n",
    "allData = pd.read_csv(obj['Body'])\n",
    "fields = ['filename', 'human']\n",
    "data = allData[fields]\n",
    "\n",
    "data.head()"
   ]
  },
  {
   "cell_type": "code",
   "execution_count": 5,
   "metadata": {},
   "outputs": [],
   "source": [
    "dataset = np.ndarray(shape=(len(data), target_height, target_width, channels), dtype=np.float32)\n",
    "y_dataset = []\n",
    "\n",
    "# Set of markers so I can create an lst\n",
    "i=0\n",
    "for index, row in data.iterrows():\n",
    "    y_dataset.append(row.human)\n",
    "    object_path = '<path to image directory>/{}'.format(row.filename)\n",
    "    obj = client.get_object(Bucket=bucket, Key=object_path)\n",
    "    img = load_img(obj['Body'], target_size=(target_height, target_width))\n",
    "    x = img_to_array(img)\n",
    "    x = x / 255.0\n",
    "    dataset[i] = x\n",
    "    i += 1\n"
   ]
  },
  {
   "cell_type": "code",
   "execution_count": 6,
   "metadata": {},
   "outputs": [],
   "source": [
    "x_train, x_val_test, y_train, y_val_test = train_test_split(dataset, y_dataset, test_size=0.3)"
   ]
  },
  {
   "cell_type": "code",
   "execution_count": 7,
   "metadata": {},
   "outputs": [
    {
     "name": "stdout",
     "output_type": "stream",
     "text": [
      "(797, 180, 320, 3) (171, 180, 320, 3) (171, 180, 320, 3)\n"
     ]
    }
   ],
   "source": [
    "validation_length = int(int(len(x_val_test)) / 2)\n",
    "\n",
    "# Separate validation from test\n",
    "x_val = x_val_test[:validation_length]\n",
    "y_val = y_val_test[:validation_length]\n",
    "\n",
    "x_test = x_val_test[validation_length:]\n",
    "y_test = y_val_test[validation_length:]\n",
    "\n",
    "print(x_train.shape, x_val.shape, x_test.shape)"
   ]
  },
  {
   "cell_type": "code",
   "execution_count": 8,
   "metadata": {},
   "outputs": [
    {
     "name": "stderr",
     "output_type": "stream",
     "text": [
      "WARNING: Logging before flag parsing goes to stderr.\n",
      "W0905 17:55:53.497073 140690488915776 deprecation_wrapper.py:119] From /home/ec2-user/anaconda3/envs/tensorflow_p36/lib/python3.6/site-packages/keras/backend/tensorflow_backend.py:74: The name tf.get_default_graph is deprecated. Please use tf.compat.v1.get_default_graph instead.\n",
      "\n",
      "W0905 17:55:53.511845 140690488915776 deprecation_wrapper.py:119] From /home/ec2-user/anaconda3/envs/tensorflow_p36/lib/python3.6/site-packages/keras/backend/tensorflow_backend.py:517: The name tf.placeholder is deprecated. Please use tf.compat.v1.placeholder instead.\n",
      "\n",
      "W0905 17:55:53.513712 140690488915776 deprecation_wrapper.py:119] From /home/ec2-user/anaconda3/envs/tensorflow_p36/lib/python3.6/site-packages/keras/backend/tensorflow_backend.py:4138: The name tf.random_uniform is deprecated. Please use tf.random.uniform instead.\n",
      "\n",
      "W0905 17:55:53.524643 140690488915776 deprecation_wrapper.py:119] From /home/ec2-user/anaconda3/envs/tensorflow_p36/lib/python3.6/site-packages/keras/backend/tensorflow_backend.py:3976: The name tf.nn.max_pool is deprecated. Please use tf.nn.max_pool2d instead.\n",
      "\n",
      "W0905 17:55:53.570843 140690488915776 deprecation_wrapper.py:119] From /home/ec2-user/anaconda3/envs/tensorflow_p36/lib/python3.6/site-packages/keras/backend/tensorflow_backend.py:133: The name tf.placeholder_with_default is deprecated. Please use tf.compat.v1.placeholder_with_default instead.\n",
      "\n",
      "W0905 17:55:53.577151 140690488915776 deprecation.py:506] From /home/ec2-user/anaconda3/envs/tensorflow_p36/lib/python3.6/site-packages/keras/backend/tensorflow_backend.py:3445: calling dropout (from tensorflow.python.ops.nn_ops) with keep_prob is deprecated and will be removed in a future version.\n",
      "Instructions for updating:\n",
      "Please use `rate` instead of `keep_prob`. Rate should be set to `rate = 1 - keep_prob`.\n",
      "W0905 17:55:53.597154 140690488915776 deprecation_wrapper.py:119] From /home/ec2-user/anaconda3/envs/tensorflow_p36/lib/python3.6/site-packages/keras/optimizers.py:790: The name tf.train.Optimizer is deprecated. Please use tf.compat.v1.train.Optimizer instead.\n",
      "\n",
      "W0905 17:55:53.609513 140690488915776 deprecation_wrapper.py:119] From /home/ec2-user/anaconda3/envs/tensorflow_p36/lib/python3.6/site-packages/keras/backend/tensorflow_backend.py:3376: The name tf.log is deprecated. Please use tf.math.log instead.\n",
      "\n",
      "W0905 17:55:53.612860 140690488915776 deprecation.py:323] From /home/ec2-user/anaconda3/envs/tensorflow_p36/lib/python3.6/site-packages/tensorflow/python/ops/nn_impl.py:180: add_dispatch_support.<locals>.wrapper (from tensorflow.python.ops.array_ops) is deprecated and will be removed in a future version.\n",
      "Instructions for updating:\n",
      "Use tf.where in 2.0, which has the same broadcast rule as np.where\n"
     ]
    }
   ],
   "source": [
    "model = Sequential()\n",
    "\n",
    "model.add(Conv2D(32, (3, 3), activation='relu', input_shape=x_train[1,:].shape))\n",
    "model.add(MaxPooling2D((2, 2)))\n",
    "\n",
    "model.add(Conv2D(64, (3, 3), activation='relu'))\n",
    "model.add(MaxPooling2D((2, 2)))\n",
    "\n",
    "model.add(Conv2D(128, (3, 3), activation='relu'))\n",
    "model.add(MaxPooling2D((2, 2)))\n",
    "\n",
    "model.add(Conv2D(128, (3, 3), activation='relu'))\n",
    "model.add(MaxPooling2D((2, 2)))\n",
    "\n",
    "model.add(Flatten())\n",
    "model.add(Dense(512, activation='relu'))\n",
    "model.add(Dropout(0.5))\n",
    "model.add(Dense(1, activation='sigmoid'))\n",
    "\n",
    "model.compile(loss='binary_crossentropy',\n",
    "              optimizer='rmsprop',\n",
    "              metrics=['accuracy'])"
   ]
  },
  {
   "cell_type": "code",
   "execution_count": 9,
   "metadata": {},
   "outputs": [
    {
     "name": "stdout",
     "output_type": "stream",
     "text": [
      "Train on 797 samples, validate on 171 samples\n",
      "Epoch 1/10\n",
      "797/797 [==============================] - 14s 17ms/step - loss: 1.5408 - acc: 0.6487 - val_loss: 0.6246 - val_acc: 0.6433\n",
      "Epoch 2/10\n",
      "797/797 [==============================] - 12s 15ms/step - loss: 0.5773 - acc: 0.7591 - val_loss: 0.7133 - val_acc: 0.5965\n",
      "Epoch 3/10\n",
      "797/797 [==============================] - 12s 15ms/step - loss: 0.4047 - acc: 0.8419 - val_loss: 1.6744 - val_acc: 0.5322\n",
      "Epoch 4/10\n",
      "797/797 [==============================] - 12s 15ms/step - loss: 0.3436 - acc: 0.8758 - val_loss: 0.9026 - val_acc: 0.7135\n",
      "Epoch 5/10\n",
      "797/797 [==============================] - 12s 15ms/step - loss: 0.2924 - acc: 0.9021 - val_loss: 0.2977 - val_acc: 0.9181\n",
      "Epoch 6/10\n",
      "797/797 [==============================] - 12s 15ms/step - loss: 0.2673 - acc: 0.9197 - val_loss: 0.3671 - val_acc: 0.9123\n",
      "Epoch 7/10\n",
      "797/797 [==============================] - 12s 15ms/step - loss: 0.2155 - acc: 0.9210 - val_loss: 0.2847 - val_acc: 0.9240\n",
      "Epoch 8/10\n",
      "797/797 [==============================] - 13s 17ms/step - loss: 0.1625 - acc: 0.9536 - val_loss: 0.2692 - val_acc: 0.9123\n",
      "Epoch 9/10\n",
      "797/797 [==============================] - 12s 15ms/step - loss: 0.1336 - acc: 0.9536 - val_loss: 0.7098 - val_acc: 0.8655\n",
      "Epoch 10/10\n",
      "797/797 [==============================] - 12s 15ms/step - loss: 0.2004 - acc: 0.9410 - val_loss: 0.4058 - val_acc: 0.9181\n"
     ]
    }
   ],
   "source": [
    "batch_size=16\n",
    "epochs=10\n",
    "\n",
    "model.fit(x_train, y_train, epochs=epochs, batch_size=batch_size, verbose=1, validation_data=(x_val,y_val))\n",
    "model.save('human_not_human.h5')"
   ]
  },
  {
   "cell_type": "code",
   "execution_count": 10,
   "metadata": {},
   "outputs": [
    {
     "name": "stdout",
     "output_type": "stream",
     "text": [
      "171/171 [==============================] - 1s 4ms/step\n"
     ]
    }
   ],
   "source": [
    "score = model.evaluate(x_test, y_test, verbose=1)"
   ]
  },
  {
   "cell_type": "code",
   "execution_count": 11,
   "metadata": {},
   "outputs": [
    {
     "name": "stdout",
     "output_type": "stream",
     "text": [
      "loss: 0.5187677096205148\n",
      "acc: 0.877192983850401\n"
     ]
    }
   ],
   "source": [
    "i = 0\n",
    "for metric in model.metrics_names:\n",
    "    print(metric + \": \" + str(score[i]))\n",
    "    i += 1"
   ]
  },
  {
   "cell_type": "code",
   "execution_count": 13,
   "metadata": {},
   "outputs": [],
   "source": [
    "client.upload_file('./human_not_human.h5', bucket, 'models/human_not_human.h5')"
   ]
  }
 ],
 "metadata": {
  "kernelspec": {
   "display_name": "Python 3",
   "language": "python",
   "name": "python3"
  },
  "language_info": {
   "codemirror_mode": {
    "name": "ipython",
    "version": 3
   },
   "file_extension": ".py",
   "mimetype": "text/x-python",
   "name": "python",
   "nbconvert_exporter": "python",
   "pygments_lexer": "ipython3",
   "version": "3.7.4"
  }
 },
 "nbformat": 4,
 "nbformat_minor": 2
}
