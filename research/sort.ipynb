{
 "cells": [
  {
   "cell_type": "code",
   "execution_count": 16,
   "metadata": {},
   "outputs": [],
   "source": [
    "import os\n",
    "import pandas as pd\n",
    "import numpy as np\n",
    "import matplotlib.pyplot as plt\n",
    "from shutil import copyfile\n",
    "\n",
    "from random import random\n"
   ]
  },
  {
   "cell_type": "code",
   "execution_count": 17,
   "metadata": {},
   "outputs": [],
   "source": [
    "rawPath = \"./rawData\"\n",
    "if not os.path.exists('./data'):\n",
    "    os.makedirs('./data')"
   ]
  },
  {
   "cell_type": "code",
   "execution_count": 18,
   "metadata": {},
   "outputs": [],
   "source": [
    "allData = pd.read_csv('./data.csv')\n",
    "fields = ['filename', 'human']\n",
    "data = allData[fields]"
   ]
  },
  {
   "cell_type": "code",
   "execution_count": 20,
   "metadata": {
    "scrolled": true
   },
   "outputs": [],
   "source": [
    "for index, row in data.iterrows():\n",
    "    basePath = './data/train'\n",
    "    if random() < 0.25:\n",
    "        basePath = './data/validation'\n",
    "    # Create the parent folder\n",
    "    if not os.path.exists(basePath):\n",
    "        os.makedirs(basePath)\n",
    "    \n",
    "    if row.human == 1:\n",
    "        dstPath = basePath + '/human/' + row.filename\n",
    "        if not os.path.exists(basePath + '/human'):\n",
    "            os.makedirs(basePath + '/human')\n",
    "    else:\n",
    "        dstPath = basePath + '/not_human/' + row.filename\n",
    "        if not os.path.exists(basePath + '/not_human'):\n",
    "            os.makedirs(basePath + '/not_human')\n",
    "        \n",
    "    copyfile(rawPath + \"/\" + row.filename, dstPath)\n"
   ]
  },
  {
   "cell_type": "code",
   "execution_count": null,
   "metadata": {},
   "outputs": [],
   "source": []
  }
 ],
 "metadata": {
  "kernelspec": {
   "display_name": "Python 3",
   "language": "python",
   "name": "python3"
  },
  "language_info": {
   "codemirror_mode": {
    "name": "ipython",
    "version": 3
   },
   "file_extension": ".py",
   "mimetype": "text/x-python",
   "name": "python",
   "nbconvert_exporter": "python",
   "pygments_lexer": "ipython3",
   "version": "3.7.3"
  }
 },
 "nbformat": 4,
 "nbformat_minor": 2
}
